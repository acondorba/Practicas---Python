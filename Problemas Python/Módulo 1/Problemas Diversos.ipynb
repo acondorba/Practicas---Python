{
 "cells": [
  {
   "cell_type": "markdown",
   "metadata": {},
   "source": [
    "# PROBLEMAS DIVERSOS"
   ]
  },
  {
   "cell_type": "markdown",
   "metadata": {},
   "source": [
    "<h3>1.</h3>\n",
    "Imagina que acabas de abrir una nueva cuenta de ahorros que te ofrece el 4% de interés al año. Estos ahorros debido a intereses, que no se cobran hasta finales de año, se te añaden al balance final de tu cuenta de ahorros. Escribir un programa que comience leyendo la cantidad de dinero depositada en la cuenta de ahorros, introducida por el usuario. Después el programa debe calcular y mostrar por pantalla la cantidad de ahorros tras el primer, segundo y tercer años. Redondear cada cantidad a dos decimales."
   ]
  },
  {
   "cell_type": "code",
   "execution_count": 2,
   "metadata": {},
   "outputs": [
    {
     "name": "stdout",
     "output_type": "stream",
     "text": [
      "Resolviendo el ejercicio :)\n"
     ]
    },
    {
     "name": "stdin",
     "output_type": "stream",
     "text": [
      "Introduce tu deposito inicial:  600\n"
     ]
    },
    {
     "name": "stdout",
     "output_type": "stream",
     "text": [
      "600.0\n",
      "Pasado el primer año usted habrá acumulado:624.0\n",
      "Pasado el segundo año usted habrá acumulado:648.96\n",
      "Pasado el tercer año usted habrá acumulado:674.92\n"
     ]
    }
   ],
   "source": [
    "print('Resolviendo el ejercicio :)')\n",
    "deposito = float(input(\"Introduce tu deposito inicial: \"))\n",
    "print (deposito)\n",
    "\n",
    "interes = 1.04\n",
    "deposito1 = deposito * (interes)\n",
    "print(\"Pasado el primer año usted habrá acumulado:\" + str(round(deposito1, 2)))\n",
    "deposito2 = deposito * (interes)**2\n",
    "print(\"Pasado el segundo año usted habrá acumulado:\" + str(round(deposito2, 2)))\n",
    "deposito3 = deposito * (interes)**3\n",
    "print(\"Pasado el tercer año usted habrá acumulado:\" + str(round(deposito3, 2)))\n"
   ]
  },
  {
   "cell_type": "markdown",
   "metadata": {},
   "source": [
    "### 2.\n",
    "Escriba un programa que pida los coeficientes de una ecuación de segundo grado <code>(a x² + b x + c = 0)</code> y escriba la solución.\n",
    "\n",
    "Se recuerda que una ecuación de segundo grado puede no tener solución, tener una solución única, tener dos soluciones o que todos los números sean solución."
   ]
  },
  {
   "cell_type": "markdown",
   "metadata": {},
   "source": [
    "<img src='https://i.pinimg.com/originals/d3/f7/01/d3f701528ad56ce0f5a98d7c91722fd7.png'>"
   ]
  },
  {
   "cell_type": "markdown",
   "metadata": {},
   "source": [
    "Su programa debe indicar:\n",
    "- En caso la ecuación cuadrática tenga solución real, su programa debe brindar la solución\n",
    "- En caso su ecuación no tenga solución real, su programa debe brindar un mensaje que diga \"Ecuación no presenta solución real\""
   ]
  },
  {
   "cell_type": "code",
   "execution_count": 1,
   "metadata": {},
   "outputs": [],
   "source": [
    "import math"
   ]
  },
  {
   "cell_type": "code",
   "execution_count": 3,
   "metadata": {},
   "outputs": [
    {
     "data": {
      "text/plain": [
       "1.4142135623730951"
      ]
     },
     "execution_count": 3,
     "metadata": {},
     "output_type": "execute_result"
    }
   ],
   "source": [
    "2 ** (1/2)"
   ]
  },
  {
   "cell_type": "code",
   "execution_count": 4,
   "metadata": {},
   "outputs": [
    {
     "name": "stdin",
     "output_type": "stream",
     "text": [
      "Escriba el valor del coeficiente a:  9\n",
      "Escriba el valor del coeficiente b:  10\n",
      "Escriba el valor del coeficiente c:  5\n"
     ]
    },
    {
     "name": "stdout",
     "output_type": "stream",
     "text": [
      "Ecuación no presenta solución real.\n"
     ]
    }
   ],
   "source": [
    "from math import sqrt\n",
    "\n",
    "A = float(input(\"Escriba el valor del coeficiente a: \"))\n",
    "B = float(input(\"Escriba el valor del coeficiente b: \"))\n",
    "C = float(input(\"Escriba el valor del coeficiente c: \"))\n",
    "x1= 0\n",
    "x2= 0\n",
    "\n",
    "dis= ((B**2)-4*A*C)\n",
    "\n",
    "if dis < 0:\n",
    "  print(\"Ecuación no presenta solución real.\")\n",
    "else:\n",
    "  x1 = (-B+sqrt(B**2-(4*A*C)))/(2*A)\n",
    "  x2 = (-B-sqrt(B**2-(4*A*C)))/(2*A)\n",
    "  print(\"Las soluciones de la ecuación son:\")\n",
    "  print(x1)\n",
    "  print(x2)"
   ]
  },
  {
   "cell_type": "code",
   "execution_count": null,
   "metadata": {},
   "outputs": [],
   "source": []
  }
 ],
 "metadata": {
  "kernelspec": {
   "display_name": "Python 3",
   "language": "python",
   "name": "python3"
  },
  "language_info": {
   "codemirror_mode": {
    "name": "ipython",
    "version": 3
   },
   "file_extension": ".py",
   "mimetype": "text/x-python",
   "name": "python",
   "nbconvert_exporter": "python",
   "pygments_lexer": "ipython3",
   "version": "3.8.5"
  }
 },
 "nbformat": 4,
 "nbformat_minor": 4
}
