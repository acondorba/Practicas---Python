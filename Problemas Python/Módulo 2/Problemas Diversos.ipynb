{
 "cells": [
  {
   "cell_type": "markdown",
   "metadata": {},
   "source": [
    "# PROBLEMAS DIVERSOS"
   ]
  },
  {
   "cell_type": "markdown",
   "metadata": {},
   "source": [
    "<h3>1.</h3>\n",
    "Realizar una función que permita la carga de n alumnos. Por cada alumno se deberá preguntar el nombre completo y permitir el ingreso de 3 notas. Las notas deben estar comprendidas entre 0 y 10. Devolver el listado de alumnos."
   ]
  },
  {
   "cell_type": "markdown",
   "metadata": {},
   "source": [
    "### 2.\n",
    "Definir una función que dado un listado de alumnos evalúe cuántos aprobaron y cuántos desaprobaron, teniendo en cuenta que se aprueba con 4. La nota será el promedio de las 3 notas para cada alumno."
   ]
  },
  {
   "cell_type": "markdown",
   "metadata": {},
   "source": [
    "### 3.\n",
    "Informar el promedio de nota del curso total."
   ]
  },
  {
   "cell_type": "markdown",
   "metadata": {},
   "source": [
    "### 4.\n",
    "Realizar una función que indique quién tuvo el promedio más alto y quién tuvo la nota promedio más baja."
   ]
  },
  {
   "cell_type": "markdown",
   "metadata": {},
   "source": [
    "### 5.\n",
    "Realizar una función que permita buscar un alumno por nombre, siendo el nombre completo o parcial, y devuelva una lista con los n alumnos que concuerden con ese nombre junto con todos sus datos, incluido el promedio de sus notas."
   ]
  },
  {
   "cell_type": "code",
   "execution_count": 1,
   "metadata": {},
   "outputs": [
    {
     "name": "stdin",
     "output_type": "stream",
     "text": [
      "Ingrese cantidad de alumnos: 3\n"
     ]
    },
    {
     "name": "stdout",
     "output_type": "stream",
     "text": [
      "3\n"
     ]
    },
    {
     "name": "stdin",
     "output_type": "stream",
     "text": [
      "Ingrese el nombre del alumno 1: Probando1\n",
      "Introduce la nota(0 - 10):  8\n",
      "Introduce la nota(0 - 10):  7\n",
      "Introduce la nota(0 - 10):  6\n",
      "Ingrese el nombre del alumno 2: Probando2\n",
      "Introduce la nota(0 - 10):  8\n",
      "Introduce la nota(0 - 10):  5\n",
      "Introduce la nota(0 - 10):  2\n",
      "Ingrese el nombre del alumno 3: Probando3\n",
      "Introduce la nota(0 - 10):  2\n",
      "Introduce la nota(0 - 10):  4\n",
      "Introduce la nota(0 - 10):  5\n"
     ]
    },
    {
     "name": "stdout",
     "output_type": "stream",
     "text": [
      "---------------------------------------------------------------------------------------------------------------------------------\n",
      "[{'Nombre': 'Probando1', 'Nota1': 8.0, 'Nota2': 7.0, 'Nota3': 6.0, 'Prom': 7.0, 'Estado': 'Aprobado'}, {'Nombre': 'Probando2', 'Nota1': 8.0, 'Nota2': 5.0, 'Nota3': 2.0, 'Prom': 5.0, 'Estado': 'Aprobado'}, {'Nombre': 'Probando3', 'Nota1': 2.0, 'Nota2': 4.0, 'Nota3': 5.0, 'Prom': 3.67, 'Estado': 'Desaprobado'}]\n",
      "---------------------------------------------------------------------------------------------------------------------------------\n",
      "A continuación se lista la mayor y menor nota:\n",
      "Probando3 3.67\n",
      "Probando1 7.0\n",
      "---------------------------------------------------------------------------------------------------------------------------------\n",
      "La cantidad de aprobados son: 2 \n",
      "La cantidad de desaprobados son: 1 \n",
      "El promedio total del curso es: 5.22 \n",
      "---------------------------------------------------------------------------------------------------------------------------------\n"
     ]
    },
    {
     "data": {
      "text/plain": [
       "[{'Nombre': 'Probando1',\n",
       "  'Nota1': 8.0,\n",
       "  'Nota2': 7.0,\n",
       "  'Nota3': 6.0,\n",
       "  'Prom': 7.0,\n",
       "  'Estado': 'Aprobado'},\n",
       " {'Nombre': 'Probando2',\n",
       "  'Nota1': 8.0,\n",
       "  'Nota2': 5.0,\n",
       "  'Nota3': 2.0,\n",
       "  'Prom': 5.0,\n",
       "  'Estado': 'Aprobado'},\n",
       " {'Nombre': 'Probando3',\n",
       "  'Nota1': 2.0,\n",
       "  'Nota2': 4.0,\n",
       "  'Nota3': 5.0,\n",
       "  'Prom': 3.67,\n",
       "  'Estado': 'Desaprobado'}]"
      ]
     },
     "execution_count": 1,
     "metadata": {},
     "output_type": "execute_result"
    }
   ],
   "source": [
    "def cantidad():\n",
    "    n=int(input(\"Ingrese cantidad de alumnos:\"))\n",
    "    print (n)\n",
    "    return n\n",
    "\n",
    "def nota():\n",
    "    nota = float(input(\"Introduce la nota(0 - 10): \"))\n",
    "    return nota\n",
    "\n",
    "def validar_nota(nota):\n",
    "    try:\n",
    "        c=nota()\n",
    "        #nota = float(input(\"Introduce la nota(0 - 10): \"))\n",
    "        if c >=0 and c <= 10:\n",
    "            return c  # Importante romper la iteración si todo ha salido bien\n",
    "        else:\n",
    "            print('Nota fuera del rango')\n",
    "            print(\"Ingrese nota nuevamente:\")\n",
    "            na = float(input(\"Introduce la nota(0 - 10): \"))\n",
    "            return na\n",
    "\n",
    "    except:\n",
    "        print(\"Ha ocurrido un error, introduce bien la nota\")\n",
    "        \n",
    "def ingresar_alumnos(n):\n",
    "    promedio=0\n",
    "    aprobados=0\n",
    "    desaprobados=0\n",
    "    total = 0\n",
    "    lista_alumnos = []\n",
    "    lista =[]\n",
    "    for i in range (n):\n",
    "        alumno ={}\n",
    "        nom = input(\"Ingrese el nombre del alumno {}:\".format(i+1))\n",
    "        alumno['Nombre']=nom\n",
    "        alumno['Nota1']=validar_nota(nota)\n",
    "        alumno['Nota2']=validar_nota(nota)\n",
    "        alumno['Nota3']=validar_nota(nota)\n",
    "        alumno['Prom']=round(((alumno['Nota1']+alumno['Nota2']+alumno['Nota3'])/3),2)\n",
    "        promedio = alumno['Prom']\n",
    "        dato = nom + \" \" + str(promedio)\n",
    "        if promedio>=4:\n",
    "            alumno['Estado']=\"Aprobado\"\n",
    "            aprobados+=1\n",
    "            total+=promedio\n",
    "        else:\n",
    "            alumno['Estado']=\"Desaprobado\"\n",
    "            desaprobados+=1\n",
    "            total+=promedio\n",
    "            # agregando alumno a lista alumnos\n",
    "        lista_alumnos.append(alumno)\n",
    "        lista.append(dato)\n",
    "    print (\"---------------------------------------------------------------------------------------------------------------------------------\")\n",
    "    print(lista_alumnos)\n",
    "#    print (\"Promedio más alto y promedio más bajo\",lista)\n",
    "#    return (aprobados,desaprobados,total,n,lista_alumnos,maxi,mini)\n",
    "\n",
    "    maxi=lista[0]\n",
    "    mini=lista[0]\n",
    "    \n",
    "    for valor in lista:\n",
    "        if lista[i]>=maxi:\n",
    "                maxi=lista[i]\n",
    "        elif lista[i]<=mini:\n",
    "                mini=lista[i]\n",
    "#    return maxi,mini\n",
    "    print (\"---------------------------------------------------------------------------------------------------------------------------------\")\n",
    "    print('A continuación se lista la mayor y menor nota:')\n",
    "    print(maxi)\n",
    "    print(mini)\n",
    "    return (aprobados,desaprobados,total,n,lista_alumnos)\n",
    "    \n",
    "def imprimir(x,y,z,n,a):\n",
    "    prom_cur=round(float(z/n),2)\n",
    "    print (\"---------------------------------------------------------------------------------------------------------------------------------\")\n",
    "    print (\"La cantidad de aprobados son: {} \\nLa cantidad de desaprobados son: {} \\nEl promedio total del curso es: {} \".format(x,y,prom_cur))\n",
    "    print (\"---------------------------------------------------------------------------------------------------------------------------------\")\n",
    "    return (a)\n",
    "\n",
    "\n",
    "#def buscar(a):\n",
    "    #print(type(a))\n",
    "    #a=str(input(\"Ingrese palabra a buscar:\"))\n",
    "    #x = dict(a)\n",
    "    #x.get(a)\n",
    "\n",
    "n=cantidad()\n",
    "#lista_alumnos=ingresar_alumnos(n)\n",
    "aprobados,desaprobados,total,n,a=ingresar_alumnos(n)\n",
    "#validar_promedio(lista_alumnos)\n",
    "imprimir(aprobados,desaprobados,total,n,a)\n",
    "#buscar(a)\n"
   ]
  },
  {
   "cell_type": "code",
   "execution_count": null,
   "metadata": {},
   "outputs": [],
   "source": []
  }
 ],
 "metadata": {
  "kernelspec": {
   "display_name": "Python 3",
   "language": "python",
   "name": "python3"
  },
  "language_info": {
   "codemirror_mode": {
    "name": "ipython",
    "version": 3
   },
   "file_extension": ".py",
   "mimetype": "text/x-python",
   "name": "python",
   "nbconvert_exporter": "python",
   "pygments_lexer": "ipython3",
   "version": "3.8.5"
  }
 },
 "nbformat": 4,
 "nbformat_minor": 4
}
